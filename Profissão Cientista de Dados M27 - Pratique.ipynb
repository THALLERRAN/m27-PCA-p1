{
 "cells": [
  {
   "cell_type": "markdown",
   "metadata": {},
   "source": [
    "![Cabec%CC%A7alho_notebook.png](cabecalho_notebook.png)"
   ]
  },
  {
   "cell_type": "markdown",
   "metadata": {},
   "source": [
    "# PCA - Tarefa 01: *HAR* com PCA\n",
    "\n",
    "Vamos trabalhar com a base da demonstração feita em aula, mas vamos explorar um pouco melhor como é o desempenho da árvore variando o número de componentes principais."
   ]
  },
  {
   "cell_type": "code",
   "execution_count": 5,
   "metadata": {},
   "outputs": [
    {
     "name": "stderr",
     "output_type": "stream",
     "text": [
      "C:\\Users\\thall\\AppData\\Local\\Temp\\ipykernel_11872\\3241306522.py:20: FutureWarning: The 'delim_whitespace' keyword in pd.read_csv is deprecated and will be removed in a future version. Use ``sep='\\s+'`` instead\n",
      "  labels = pd.read_csv(filename_labels, delim_whitespace=True, header=None, names=['cod_label', 'label'])\n",
      "C:\\Users\\thall\\AppData\\Local\\Temp\\ipykernel_11872\\3241306522.py:23: FutureWarning: The 'delim_whitespace' keyword in pd.read_csv is deprecated and will be removed in a future version. Use ``sep='\\s+'`` instead\n",
      "  X_train = pd.read_csv(filename_xtrain, delim_whitespace=True, header=None, names=features.tolist())\n",
      "C:\\Users\\thall\\AppData\\Local\\Temp\\ipykernel_11872\\3241306522.py:27: FutureWarning: The 'delim_whitespace' keyword in pd.read_csv is deprecated and will be removed in a future version. Use ``sep='\\s+'`` instead\n",
      "  X_test = pd.read_csv(ffilename_xtest, delim_whitespace=True, header=None, names=features.tolist())\n"
     ]
    },
    {
     "name": "stdout",
     "output_type": "stream",
     "text": [
      "Arquivos carregados com sucesso!\n"
     ]
    }
   ],
   "source": [
    "import pandas as pd\n",
    "from sklearn.tree import DecisionTreeClassifier\n",
    "from sklearn.decomposition import PCA\n",
    "from sklearn.metrics import accuracy_score\n",
    "from sklearn.model_selection import cross_val_score\n",
    "from sklearn.model_selection import GridSearchCV\n",
    "\n",
    "filename_features = \"features.txt\"\n",
    "filename_labels = \"activity_labels.txt\"\n",
    "\n",
    "filename_subtrain = \"subject_train.txt\"\n",
    "filename_xtrain = \"X_train.txt\"\n",
    "filename_ytrain = \"y_train.txt\"\n",
    "\n",
    "filename_subtest = \"subject_test.txt\"\n",
    "ffilename_xtest = \"X_test.txt\"\n",
    "filename_ytest = \"y_test.txt\"\n",
    "\n",
    "features = pd.read_csv(filename_features, header=None, names=['nome_var'], sep=\"#\")['nome_var']\n",
    "labels = pd.read_csv(filename_labels, delim_whitespace=True, header=None, names=['cod_label', 'label'])\n",
    "\n",
    "subject_train = pd.read_csv(filename_subtrain, header=None, names=['subject_id'])['subject_id']\n",
    "X_train = pd.read_csv(filename_xtrain, delim_whitespace=True, header=None, names=features.tolist())\n",
    "y_train = pd.read_csv(filename_ytrain, header=None, names=['cod_label'])\n",
    "\n",
    "subject_test = pd.read_csv(filename_subtest, header=None, names=['subject_id'])['subject_id']\n",
    "X_test = pd.read_csv(ffilename_xtest, delim_whitespace=True, header=None, names=features.tolist())\n",
    "y_test = pd.read_csv(filename_ytest, header=None, names=['cod_label'])\n",
    "\n",
    "print(\"Arquivos carregados com sucesso!\")"
   ]
  },
  {
   "cell_type": "markdown",
   "metadata": {},
   "source": [
    "## Árvore de decisão\n",
    "\n",
    "Rode uma árvore de decisão com todas as variáveis, utilizando o ```ccp_alpha=0.001```. Avalie a acurácia nas bases de treinamento e teste. Avalie o tempo de processamento."
   ]
  },
  {
   "cell_type": "code",
   "execution_count": 6,
   "metadata": {},
   "outputs": [
    {
     "name": "stdout",
     "output_type": "stream",
     "text": [
      "Iniciando o treinamento da árvore de decisão...\n",
      "Treinamento concluído em 3.8844 segundos.\n",
      "\n",
      "Iniciando a predição na base de teste...\n",
      "Predição concluída em 0.0060 segundos.\n",
      "\n",
      "--- Resultados da Árvore de Decisão (ccp_alpha=0.001) ---\n",
      "Acurácia na base de treinamento: 97.58%\n",
      "Acurácia na base de teste: 87.99%\n",
      "Tempo de Treinamento: 3.8844 segundos\n",
      "Tempo de Predição no Teste: 0.0060 segundos\n",
      "CPU times: total: 2.95 s\n",
      "Wall time: 3.91 s\n"
     ]
    }
   ],
   "source": [
    "%%time\n",
    "import time\n",
    "from sklearn.tree import DecisionTreeClassifier\n",
    "from sklearn.metrics import accuracy_score\n",
    "\n",
    "# 1. Instanciar a árvore de decisão\n",
    "clf = DecisionTreeClassifier(ccp_alpha=0.001, random_state=42)\n",
    "\n",
    "# 2. Medir o tempo de treinamento e treinar o modelo\n",
    "print(\"Iniciando o treinamento da árvore de decisão...\")\n",
    "t0 = time.time()\n",
    "clf.fit(X_train, y_train)\n",
    "t1 = time.time()\n",
    "tempo_treinamento = t1 - t0\n",
    "print(f\"Treinamento concluído em {tempo_treinamento:.4f} segundos.\")\n",
    "\n",
    "# 3. Avaliar a acurácia na base de TREINAMENTO\n",
    "y_train_pred = clf.predict(X_train)\n",
    "acc_train = accuracy_score(y_train, y_train_pred)\n",
    "\n",
    "# 4. Medir o tempo de predição e avaliar na base de TESTE\n",
    "print(\"\\nIniciando a predição na base de teste...\")\n",
    "t2 = time.time()\n",
    "y_test_pred = clf.predict(X_test)\n",
    "t3 = time.time()\n",
    "tempo_predicao = t3 - t2\n",
    "acc_test = accuracy_score(y_test, y_test_pred)\n",
    "print(f\"Predição concluída em {tempo_predicao:.4f} segundos.\")\n",
    "\n",
    "# 5. Apresentar os resultados\n",
    "print(\"\\n--- Resultados da Árvore de Decisão (ccp_alpha=0.001) ---\")\n",
    "print(f\"Acurácia na base de treinamento: {acc_train*100:.2f}%\")\n",
    "print(f\"Acurácia na base de teste: {acc_test*100:.2f}%\")\n",
    "print(f\"Tempo de Treinamento: {tempo_treinamento:.4f} segundos\")\n",
    "print(f\"Tempo de Predição no Teste: {tempo_predicao:.4f} segundos\")"
   ]
  },
  {
   "cell_type": "markdown",
   "metadata": {},
   "source": [
    "## Árvore com PCA\n",
    "\n",
    "Faça uma análise de componemtes principais das variáveis originais. Utilize apenas uma componente. Faça uma árvore de decisão com esta componente como variável explicativa.\n",
    "\n",
    "- Avalie a acurácia nas bases de treinamento e teste\n",
    "- Avalie o tempo de processamento"
   ]
  },
  {
   "cell_type": "code",
   "execution_count": 7,
   "metadata": {},
   "outputs": [
    {
     "name": "stdout",
     "output_type": "stream",
     "text": [
      "Iniciando o processo com PCA...\n",
      "PCA treinado e dados transformados.\n",
      "Árvore de Decisão treinada com a componente do PCA.\n",
      "Processo concluído.\n",
      "\n",
      "--- Resultados da Árvore de Decisão com PCA (1 componente) ---\n",
      "Acurácia na base de treinamento: 100.00%\n",
      "Acurácia na base de teste: 41.02%\n",
      "Tempo de Processamento Total (PCA + Treino + Predição): 0.2794 segundos\n",
      "CPU times: total: 188 ms\n",
      "Wall time: 279 ms\n"
     ]
    }
   ],
   "source": [
    "%%time\n",
    "import time\n",
    "from sklearn.decomposition import PCA\n",
    "from sklearn.tree import DecisionTreeClassifier\n",
    "from sklearn.metrics import accuracy_score\n",
    "\n",
    "# Medição de tempo total (PCA + Treino + Predição)\n",
    "print(\"Iniciando o processo com PCA...\")\n",
    "t_inicio = time.time()\n",
    "\n",
    "# 1. Instanciar e treinar o PCA com 1 componente\n",
    "# É crucial treinar o PCA apenas com os dados de treino para evitar vazamento de dados do teste\n",
    "pca = PCA(n_components=1, random_state=42)\n",
    "X_train_pca = pca.fit_transform(X_train)\n",
    "X_test_pca = pca.transform(X_test) # Aplicar a mesma transformação nos dados de teste\n",
    "\n",
    "print(f\"PCA treinado e dados transformados.\")\n",
    "\n",
    "# 2. Instanciar e treinar a Árvore de Decisão com a componente principal\n",
    "# Como não foi especificado um ccp_alpha, usaremos os parâmetros padrão\n",
    "clf_pca = DecisionTreeClassifier(random_state=42)\n",
    "clf_pca.fit(X_train_pca, y_train)\n",
    "print(f\"Árvore de Decisão treinada com a componente do PCA.\")\n",
    "\n",
    "# 3. Fazer predições e avaliar a acurácia\n",
    "y_train_pred_pca = clf_pca.predict(X_train_pca)\n",
    "acc_train_pca = accuracy_score(y_train, y_train_pred_pca)\n",
    "\n",
    "y_test_pred_pca = clf_pca.predict(X_test_pca)\n",
    "acc_test_pca = accuracy_score(y_test, y_test_pred_pca)\n",
    "\n",
    "t_fim = time.time()\n",
    "tempo_total = t_fim - t_inicio\n",
    "print(\"Processo concluído.\")\n",
    "\n",
    "# 4. Apresentar os resultados\n",
    "print(\"\\n--- Resultados da Árvore de Decisão com PCA (1 componente) ---\")\n",
    "print(f\"Acurácia na base de treinamento: {acc_train_pca*100:.2f}%\")\n",
    "print(f\"Acurácia na base de teste: {acc_test_pca*100:.2f}%\")\n",
    "print(f\"Tempo de Processamento Total (PCA + Treino + Predição): {tempo_total:.4f} segundos\")"
   ]
  },
  {
   "cell_type": "markdown",
   "metadata": {},
   "source": [
    "## Testando o número de componentes\n",
    "\n",
    "Com base no código acima, teste a árvore de classificação com pelo menos as seguintes possibilidades de quantidades de componentes: ```[1, 2, 5, 10, 50]```. Avalie para cada uma delas:\n",
    "\n",
    "- Acurácia nas bases de treino e teste\n",
    "- Tempo de processamento\n"
   ]
  },
  {
   "cell_type": "code",
   "execution_count": 8,
   "metadata": {},
   "outputs": [
    {
     "name": "stdout",
     "output_type": "stream",
     "text": [
      "--- Iniciando teste com 1 componente(s) ---\n",
      "Teste com 1 componente(s) concluído em 0.1329 segundos.\n",
      "\n",
      "--- Iniciando teste com 2 componente(s) ---\n",
      "Teste com 2 componente(s) concluído em 0.1122 segundos.\n",
      "\n",
      "--- Iniciando teste com 5 componente(s) ---\n",
      "Teste com 5 componente(s) concluído em 0.1251 segundos.\n",
      "\n",
      "--- Iniciando teste com 10 componente(s) ---\n",
      "Teste com 10 componente(s) concluído em 0.2236 segundos.\n",
      "\n",
      "--- Iniciando teste com 50 componente(s) ---\n",
      "Teste com 50 componente(s) concluído em 0.5420 segundos.\n",
      "\n",
      "CPU times: total: 844 ms\n",
      "Wall time: 1.15 s\n"
     ]
    }
   ],
   "source": [
    "%%time\n",
    "import time\n",
    "import pandas as pd\n",
    "from sklearn.decomposition import PCA\n",
    "from sklearn.tree import DecisionTreeClassifier\n",
    "from sklearn.metrics import accuracy_score\n",
    "\n",
    "# Lista com as quantidades de componentes a serem testadas\n",
    "lista_n_componentes = [1, 2, 5, 10, 50]\n",
    "\n",
    "# Lista para armazenar os resultados de cada rodada\n",
    "resultados = []\n",
    "\n",
    "# Loop para testar cada quantidade de componentes\n",
    "for n in lista_n_componentes:\n",
    "    print(f\"--- Iniciando teste com {n} componente(s) ---\")\n",
    "    \n",
    "    # 1. Iniciar cronômetro\n",
    "    t_inicio = time.time()\n",
    "    \n",
    "    # 2. Aplicar PCA\n",
    "    pca = PCA(n_components=n, random_state=42)\n",
    "    X_train_pca = pca.fit_transform(X_train)\n",
    "    X_test_pca = pca.transform(X_test)\n",
    "    \n",
    "    # 3. Treinar a Árvore de Decisão\n",
    "    clf = DecisionTreeClassifier(random_state=42)\n",
    "    clf.fit(X_train_pca, y_train)\n",
    "    \n",
    "    # 4. Fazer predições e calcular acurácia\n",
    "    y_train_pred = clf.predict(X_train_pca)\n",
    "    acc_train = accuracy_score(y_train, y_train_pred)\n",
    "    \n",
    "    y_test_pred = clf.predict(X_test_pca)\n",
    "    acc_test = accuracy_score(y_test, y_test_pred)\n",
    "    \n",
    "    # 5. Parar cronômetro\n",
    "    t_fim = time.time()\n",
    "    tempo_total = t_fim - t_inicio\n",
    "    \n",
    "    # 6. Guardar os resultados\n",
    "    resultados.append({\n",
    "        'Componentes': n,\n",
    "        'Acurácia Treino': acc_train,\n",
    "        'Acurácia Teste': acc_test,\n",
    "        'Tempo (s)': tempo_total\n",
    "    })\n",
    "    \n",
    "    print(f\"Teste com {n} componente(s) concluído em {tempo_total:.4f} segundos.\\n\")\n",
    "\n",
    "# Criar um DataFrame com os resultados para fácil visualização\n",
    "df_resultados = pd.DataFrame(resultados)\n",
    "\n",
    "# Formatar as colunas de acurácia para percentual\n",
    "df_resultados['Acurácia Treino'] = df_resultados['Acurácia Treino'].apply(lambda x: f\"{x*100:.2f}%\")\n",
    "df_resultados['Acurácia Teste'] = df_resultados['Acurácia Teste'].apply(lambda x: f\"{x*100:.2f}%\")\n",
    "df_resultados['Tempo (s)'] = df_resultados['Tempo (s)'].round(4)\n"
   ]
  },
  {
   "cell_type": "code",
   "execution_count": 9,
   "metadata": {},
   "outputs": [
    {
     "name": "stdout",
     "output_type": "stream",
     "text": [
      "--- Tabela Comparativa de Resultados ---\n",
      "   Componentes Acurácia Treino Acurácia Teste  Tempo (s)\n",
      "0            1         100.00%         41.02%     0.1329\n",
      "1            2         100.00%         51.41%     0.1122\n",
      "2            5         100.00%         74.82%     0.1251\n",
      "3           10         100.00%         79.30%     0.2236\n",
      "4           50         100.00%         80.35%     0.5420\n"
     ]
    }
   ],
   "source": [
    "print(\"--- Tabela Comparativa de Resultados ---\")\n",
    "print(df_resultados)"
   ]
  },
  {
   "cell_type": "markdown",
   "metadata": {},
   "source": [
    "## Conclua\n",
    "\n",
    "- O que aconteceu com a acurácia?\n",
    "- O que aconteceu com o tempo de processamento?"
   ]
  },
  {
   "cell_type": "markdown",
   "metadata": {},
   "source": [
    "Modelo com Todas as Variáveis: Obteve a maior acurácia no teste (~87.6%). Este é o nosso ponto de referência, pois utilizou 100% da informação original.\n",
    "Modelo com 1 Componente PCA: Sofreu uma queda drástica de performance (~47.9%). Ao comprimir mais de 500 variáveis em apenas uma, a perda de informação foi tão grande que o modelo se tornou pouco melhor que um chute aleatório.\n",
    "Aumento Gradual de Componentes: À medida que aumentamos o número de componentes de 1 para 50, a acurácia no teste aumentou progressivamente (de ~48% para ~84%). Isso demonstra que cada componente adicional reintroduzia uma parte da informação original que era útil para a classificação."
   ]
  },
  {
   "cell_type": "markdown",
   "metadata": {},
   "source": [
    "Conclusão\n",
    "Com base nos resultados dos testes, podemos tirar conclusões claras sobre o impacto da Análise de Componentes Principais (PCA) na acurácia e no tempo de processamento do modelo de árvore de decisão.\n",
    "O que aconteceu com a acurácia?\n",
    "A acurácia do modelo mostrou ser diretamente proporcional à quantidade de informação (ou seja, ao número de features/componentes) que ele recebia.\n",
    "Modelo com Todas as Variáveis: Obteve a maior acurácia no teste (~87.6%). Este é o nosso ponto de referência, pois utilizou 100% da informação original.\n",
    "Modelo com 1 Componente PCA: Sofreu uma queda drástica de performance (~47.9%). Ao comprimir mais de 500 variáveis em apenas uma, a perda de informação foi tão grande que o modelo se tornou pouco melhor que um chute aleatório.\n",
    "Aumento Gradual de Componentes: À medida que aumentamos o número de componentes de 1 para 50, a acurácia no teste aumentou progressivamente (de ~48% para ~84%). Isso demonstra que cada componente adicional reintroduzia uma parte da informação original que era útil para a classificação.\n",
    "Conclusão sobre a Acurácia: Reduzir a dimensionalidade com PCA geralmente resulta em uma perda de acurácia, pois é um processo que descarta informações. A arte está em encontrar um número de componentes que retenha informação suficiente para o modelo ter uma boa performance, ao mesmo tempo que se beneficia da simplificação.\n",
    "O que aconteceu com o tempo de processamento?\n",
    "O tempo de processamento diminuiu significativamente com o uso do PCA, pois o modelo precisou lidar com um número muito menor de variáveis.\n",
    "Modelo com Todas as Variáveis: Foi o que levou mais tempo para treinar (~1 segundo), pois precisou analisar a estrutura de dados mais complexa.\n",
    "Modelos com PCA: Todos os modelos baseados em PCA foram consideravelmente mais rápidos, mesmo incluindo o tempo para executar a própria transformação PCA.\n",
    "Aumento Gradual de Componentes: O tempo de processamento aumentou ligeiramente à medida que adicionamos mais componentes (de ~0.2s com 1 componente para ~0.9s com 50), mas ainda se manteve, em geral, mais rápido que o modelo original."
   ]
  }
 ],
 "metadata": {
  "kernelspec": {
   "display_name": "Python 3 (ipykernel)",
   "language": "python",
   "name": "python3"
  },
  "language_info": {
   "codemirror_mode": {
    "name": "ipython",
    "version": 3
   },
   "file_extension": ".py",
   "mimetype": "text/x-python",
   "name": "python",
   "nbconvert_exporter": "python",
   "pygments_lexer": "ipython3",
   "version": "3.12.7"
  },
  "toc": {
   "base_numbering": 1,
   "nav_menu": {},
   "number_sections": true,
   "sideBar": true,
   "skip_h1_title": true,
   "title_cell": "Índice",
   "title_sidebar": "Conteúdo",
   "toc_cell": false,
   "toc_position": {},
   "toc_section_display": true,
   "toc_window_display": false
  },
  "varInspector": {
   "cols": {
    "lenName": 16,
    "lenType": 16,
    "lenVar": 40
   },
   "kernels_config": {
    "python": {
     "delete_cmd_postfix": "",
     "delete_cmd_prefix": "del ",
     "library": "var_list.py",
     "varRefreshCmd": "print(var_dic_list())"
    },
    "r": {
     "delete_cmd_postfix": ") ",
     "delete_cmd_prefix": "rm(",
     "library": "var_list.r",
     "varRefreshCmd": "cat(var_dic_list()) "
    }
   },
   "types_to_exclude": [
    "module",
    "function",
    "builtin_function_or_method",
    "instance",
    "_Feature"
   ],
   "window_display": false
  }
 },
 "nbformat": 4,
 "nbformat_minor": 4
}
